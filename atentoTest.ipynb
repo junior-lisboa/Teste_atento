{
  "nbformat": 4,
  "nbformat_minor": 0,
  "metadata": {
    "colab": {
      "provenance": [],
      "collapsed_sections": [
        "uuL-H5-b0GzZ"
      ],
      "toc_visible": true,
      "mount_file_id": "10LbK04DOA9qvhX4U-k16F49-G3smLRfK",
      "authorship_tag": "ABX9TyOueIaQx+9Vg0dlEEbUO94x",
      "include_colab_link": true
    },
    "kernelspec": {
      "name": "python3",
      "display_name": "Python 3"
    },
    "language_info": {
      "name": "python"
    }
  },
  "cells": [
    {
      "cell_type": "markdown",
      "metadata": {
        "id": "view-in-github",
        "colab_type": "text"
      },
      "source": [
        "<a href=\"https://colab.research.google.com/github/junior-lisboa/Teste_atento/blob/main/atentoTest.ipynb\" target=\"_parent\"><img src=\"https://colab.research.google.com/assets/colab-badge.svg\" alt=\"Open In Colab\"/></a>"
      ]
    },
    {
      "cell_type": "markdown",
      "source": [
        "# Teste Atento dados iniciais"
      ],
      "metadata": {
        "id": "x45gRwdk0OSZ"
      }
    },
    {
      "cell_type": "code",
      "execution_count": 33,
      "metadata": {
        "id": "TJ9sxd_zeMqT"
      },
      "outputs": [],
      "source": [
        "import pandas as pd  \n",
        "import numpy as np\n",
        "import matplotlib.pyplot as plt\n",
        "import seaborn as sns\n",
        "import plotly.express as px\n",
        "from matplotlib.pyplot import figure"
      ]
    },
    {
      "cell_type": "code",
      "source": [
        "data2009=pd.read_json('/content/drive/MyDrive/Colab Notebooks/data-sample_data-nyctaxi-trips-2009-json_corrigido.json',  lines=True)\n",
        "data2010=pd.read_json('/content/drive/MyDrive/Colab Notebooks/data-sample_data-nyctaxi-trips-2010-json_corrigido.json',  lines=True)\n",
        "data2011=pd.read_json('/content/drive/MyDrive/Colab Notebooks/data-sample_data-nyctaxi-trips-2011-json_corrigido.json',  lines=True)\n",
        "data2012=pd.read_json('/content/drive/MyDrive/Colab Notebooks/data-sample_data-nyctaxi-trips-2012-json_corrigido.json',  lines=True)"
      ],
      "metadata": {
        "id": "EfIPyhD8hmD2"
      },
      "execution_count": 2,
      "outputs": []
    },
    {
      "cell_type": "code",
      "source": [
        "data2011.head()"
      ],
      "metadata": {
        "colab": {
          "base_uri": "https://localhost:8080/",
          "height": 357
        },
        "id": "M3uvkKgYhqfq",
        "outputId": "0b0a0732-48d6-4e7d-fac0-4debf8c0da65"
      },
      "execution_count": 50,
      "outputs": [
        {
          "output_type": "execute_result",
          "data": {
            "text/plain": [
              "  vendor_id                   pickup_datetime  \\\n",
              "0       CMT  2011-03-12T06:28:30.352421+00:00   \n",
              "1       CMT  2011-06-30T19:25:12.618256+00:00   \n",
              "2       VTS  2011-08-07T04:03:02.398796+00:00   \n",
              "3       VTS  2011-09-21T23:37:38.878326+00:00   \n",
              "4       VTS  2011-03-30T05:03:23.020477+00:00   \n",
              "\n",
              "                   dropoff_datetime  passenger_count  trip_distance  \\\n",
              "0  2011-03-12T06:36:18.300191+00:00                2           0.80   \n",
              "1   2011-06-30T19:33:12.03231+00:00                1           5.40   \n",
              "2  2011-08-07T04:09:58.621034+00:00                5           1.67   \n",
              "3  2011-09-21T23:52:06.656228+00:00                1           4.13   \n",
              "4  2011-03-30T05:13:38.282117+00:00                1           2.03   \n",
              "\n",
              "   pickup_longitude  pickup_latitude  rate_code  store_and_fwd_flag  \\\n",
              "0        -74.004114        40.742950        NaN                 NaN   \n",
              "1        -73.996506        40.747784        NaN                 NaN   \n",
              "2        -73.951340        40.752070        NaN                 NaN   \n",
              "3        -74.001117        40.729128        NaN                 NaN   \n",
              "4        -73.976600        40.756873        NaN                 NaN   \n",
              "\n",
              "   dropoff_longitude  dropoff_latitude payment_type  fare_amount  surcharge  \\\n",
              "0         -73.994712         40.747950         Cash          5.4        0.0   \n",
              "1         -73.940449         40.792385         Cash         15.4        0.0   \n",
              "2         -73.944535         40.768108         CASH          6.1        1.0   \n",
              "3         -73.958122         40.721812         CASH         12.9        0.5   \n",
              "4         -73.979757         40.776075         CASH          7.7        0.5   \n",
              "\n",
              "   tip_amount  tolls_amount  total_amount  \n",
              "0         0.0           0.0           5.4  \n",
              "1         0.0           0.0          15.4  \n",
              "2         0.0           0.0           7.1  \n",
              "3         0.0           0.0          13.4  \n",
              "4         0.0           0.0           8.2  "
            ],
            "text/html": [
              "\n",
              "  <div id=\"df-2e180259-a293-4546-b625-e52985a19579\">\n",
              "    <div class=\"colab-df-container\">\n",
              "      <div>\n",
              "<style scoped>\n",
              "    .dataframe tbody tr th:only-of-type {\n",
              "        vertical-align: middle;\n",
              "    }\n",
              "\n",
              "    .dataframe tbody tr th {\n",
              "        vertical-align: top;\n",
              "    }\n",
              "\n",
              "    .dataframe thead th {\n",
              "        text-align: right;\n",
              "    }\n",
              "</style>\n",
              "<table border=\"1\" class=\"dataframe\">\n",
              "  <thead>\n",
              "    <tr style=\"text-align: right;\">\n",
              "      <th></th>\n",
              "      <th>vendor_id</th>\n",
              "      <th>pickup_datetime</th>\n",
              "      <th>dropoff_datetime</th>\n",
              "      <th>passenger_count</th>\n",
              "      <th>trip_distance</th>\n",
              "      <th>pickup_longitude</th>\n",
              "      <th>pickup_latitude</th>\n",
              "      <th>rate_code</th>\n",
              "      <th>store_and_fwd_flag</th>\n",
              "      <th>dropoff_longitude</th>\n",
              "      <th>dropoff_latitude</th>\n",
              "      <th>payment_type</th>\n",
              "      <th>fare_amount</th>\n",
              "      <th>surcharge</th>\n",
              "      <th>tip_amount</th>\n",
              "      <th>tolls_amount</th>\n",
              "      <th>total_amount</th>\n",
              "    </tr>\n",
              "  </thead>\n",
              "  <tbody>\n",
              "    <tr>\n",
              "      <th>0</th>\n",
              "      <td>CMT</td>\n",
              "      <td>2011-03-12T06:28:30.352421+00:00</td>\n",
              "      <td>2011-03-12T06:36:18.300191+00:00</td>\n",
              "      <td>2</td>\n",
              "      <td>0.80</td>\n",
              "      <td>-74.004114</td>\n",
              "      <td>40.742950</td>\n",
              "      <td>NaN</td>\n",
              "      <td>NaN</td>\n",
              "      <td>-73.994712</td>\n",
              "      <td>40.747950</td>\n",
              "      <td>Cash</td>\n",
              "      <td>5.4</td>\n",
              "      <td>0.0</td>\n",
              "      <td>0.0</td>\n",
              "      <td>0.0</td>\n",
              "      <td>5.4</td>\n",
              "    </tr>\n",
              "    <tr>\n",
              "      <th>1</th>\n",
              "      <td>CMT</td>\n",
              "      <td>2011-06-30T19:25:12.618256+00:00</td>\n",
              "      <td>2011-06-30T19:33:12.03231+00:00</td>\n",
              "      <td>1</td>\n",
              "      <td>5.40</td>\n",
              "      <td>-73.996506</td>\n",
              "      <td>40.747784</td>\n",
              "      <td>NaN</td>\n",
              "      <td>NaN</td>\n",
              "      <td>-73.940449</td>\n",
              "      <td>40.792385</td>\n",
              "      <td>Cash</td>\n",
              "      <td>15.4</td>\n",
              "      <td>0.0</td>\n",
              "      <td>0.0</td>\n",
              "      <td>0.0</td>\n",
              "      <td>15.4</td>\n",
              "    </tr>\n",
              "    <tr>\n",
              "      <th>2</th>\n",
              "      <td>VTS</td>\n",
              "      <td>2011-08-07T04:03:02.398796+00:00</td>\n",
              "      <td>2011-08-07T04:09:58.621034+00:00</td>\n",
              "      <td>5</td>\n",
              "      <td>1.67</td>\n",
              "      <td>-73.951340</td>\n",
              "      <td>40.752070</td>\n",
              "      <td>NaN</td>\n",
              "      <td>NaN</td>\n",
              "      <td>-73.944535</td>\n",
              "      <td>40.768108</td>\n",
              "      <td>CASH</td>\n",
              "      <td>6.1</td>\n",
              "      <td>1.0</td>\n",
              "      <td>0.0</td>\n",
              "      <td>0.0</td>\n",
              "      <td>7.1</td>\n",
              "    </tr>\n",
              "    <tr>\n",
              "      <th>3</th>\n",
              "      <td>VTS</td>\n",
              "      <td>2011-09-21T23:37:38.878326+00:00</td>\n",
              "      <td>2011-09-21T23:52:06.656228+00:00</td>\n",
              "      <td>1</td>\n",
              "      <td>4.13</td>\n",
              "      <td>-74.001117</td>\n",
              "      <td>40.729128</td>\n",
              "      <td>NaN</td>\n",
              "      <td>NaN</td>\n",
              "      <td>-73.958122</td>\n",
              "      <td>40.721812</td>\n",
              "      <td>CASH</td>\n",
              "      <td>12.9</td>\n",
              "      <td>0.5</td>\n",
              "      <td>0.0</td>\n",
              "      <td>0.0</td>\n",
              "      <td>13.4</td>\n",
              "    </tr>\n",
              "    <tr>\n",
              "      <th>4</th>\n",
              "      <td>VTS</td>\n",
              "      <td>2011-03-30T05:03:23.020477+00:00</td>\n",
              "      <td>2011-03-30T05:13:38.282117+00:00</td>\n",
              "      <td>1</td>\n",
              "      <td>2.03</td>\n",
              "      <td>-73.976600</td>\n",
              "      <td>40.756873</td>\n",
              "      <td>NaN</td>\n",
              "      <td>NaN</td>\n",
              "      <td>-73.979757</td>\n",
              "      <td>40.776075</td>\n",
              "      <td>CASH</td>\n",
              "      <td>7.7</td>\n",
              "      <td>0.5</td>\n",
              "      <td>0.0</td>\n",
              "      <td>0.0</td>\n",
              "      <td>8.2</td>\n",
              "    </tr>\n",
              "  </tbody>\n",
              "</table>\n",
              "</div>\n",
              "      <button class=\"colab-df-convert\" onclick=\"convertToInteractive('df-2e180259-a293-4546-b625-e52985a19579')\"\n",
              "              title=\"Convert this dataframe to an interactive table.\"\n",
              "              style=\"display:none;\">\n",
              "        \n",
              "  <svg xmlns=\"http://www.w3.org/2000/svg\" height=\"24px\"viewBox=\"0 0 24 24\"\n",
              "       width=\"24px\">\n",
              "    <path d=\"M0 0h24v24H0V0z\" fill=\"none\"/>\n",
              "    <path d=\"M18.56 5.44l.94 2.06.94-2.06 2.06-.94-2.06-.94-.94-2.06-.94 2.06-2.06.94zm-11 1L8.5 8.5l.94-2.06 2.06-.94-2.06-.94L8.5 2.5l-.94 2.06-2.06.94zm10 10l.94 2.06.94-2.06 2.06-.94-2.06-.94-.94-2.06-.94 2.06-2.06.94z\"/><path d=\"M17.41 7.96l-1.37-1.37c-.4-.4-.92-.59-1.43-.59-.52 0-1.04.2-1.43.59L10.3 9.45l-7.72 7.72c-.78.78-.78 2.05 0 2.83L4 21.41c.39.39.9.59 1.41.59.51 0 1.02-.2 1.41-.59l7.78-7.78 2.81-2.81c.8-.78.8-2.07 0-2.86zM5.41 20L4 18.59l7.72-7.72 1.47 1.35L5.41 20z\"/>\n",
              "  </svg>\n",
              "      </button>\n",
              "      \n",
              "  <style>\n",
              "    .colab-df-container {\n",
              "      display:flex;\n",
              "      flex-wrap:wrap;\n",
              "      gap: 12px;\n",
              "    }\n",
              "\n",
              "    .colab-df-convert {\n",
              "      background-color: #E8F0FE;\n",
              "      border: none;\n",
              "      border-radius: 50%;\n",
              "      cursor: pointer;\n",
              "      display: none;\n",
              "      fill: #1967D2;\n",
              "      height: 32px;\n",
              "      padding: 0 0 0 0;\n",
              "      width: 32px;\n",
              "    }\n",
              "\n",
              "    .colab-df-convert:hover {\n",
              "      background-color: #E2EBFA;\n",
              "      box-shadow: 0px 1px 2px rgba(60, 64, 67, 0.3), 0px 1px 3px 1px rgba(60, 64, 67, 0.15);\n",
              "      fill: #174EA6;\n",
              "    }\n",
              "\n",
              "    [theme=dark] .colab-df-convert {\n",
              "      background-color: #3B4455;\n",
              "      fill: #D2E3FC;\n",
              "    }\n",
              "\n",
              "    [theme=dark] .colab-df-convert:hover {\n",
              "      background-color: #434B5C;\n",
              "      box-shadow: 0px 1px 3px 1px rgba(0, 0, 0, 0.15);\n",
              "      filter: drop-shadow(0px 1px 2px rgba(0, 0, 0, 0.3));\n",
              "      fill: #FFFFFF;\n",
              "    }\n",
              "  </style>\n",
              "\n",
              "      <script>\n",
              "        const buttonEl =\n",
              "          document.querySelector('#df-2e180259-a293-4546-b625-e52985a19579 button.colab-df-convert');\n",
              "        buttonEl.style.display =\n",
              "          google.colab.kernel.accessAllowed ? 'block' : 'none';\n",
              "\n",
              "        async function convertToInteractive(key) {\n",
              "          const element = document.querySelector('#df-2e180259-a293-4546-b625-e52985a19579');\n",
              "          const dataTable =\n",
              "            await google.colab.kernel.invokeFunction('convertToInteractive',\n",
              "                                                     [key], {});\n",
              "          if (!dataTable) return;\n",
              "\n",
              "          const docLinkHtml = 'Like what you see? Visit the ' +\n",
              "            '<a target=\"_blank\" href=https://colab.research.google.com/notebooks/data_table.ipynb>data table notebook</a>'\n",
              "            + ' to learn more about interactive tables.';\n",
              "          element.innerHTML = '';\n",
              "          dataTable['output_type'] = 'display_data';\n",
              "          await google.colab.output.renderOutput(dataTable, element);\n",
              "          const docLink = document.createElement('div');\n",
              "          docLink.innerHTML = docLinkHtml;\n",
              "          element.appendChild(docLink);\n",
              "        }\n",
              "      </script>\n",
              "    </div>\n",
              "  </div>\n",
              "  "
            ]
          },
          "metadata": {},
          "execution_count": 50
        }
      ]
    },
    {
      "cell_type": "code",
      "source": [
        "dfgeral=pd.concat([data2009,data2010,data2011,data2012])"
      ],
      "metadata": {
        "id": "pUO2gF5epOGs"
      },
      "execution_count": 4,
      "outputs": []
    },
    {
      "cell_type": "code",
      "source": [
        "dfgeral.head()"
      ],
      "metadata": {
        "colab": {
          "base_uri": "https://localhost:8080/",
          "height": 357
        },
        "id": "KBAO7pIQq_F4",
        "outputId": "3ef4b12d-309f-4dd7-80a1-55df1aeee1c6"
      },
      "execution_count": 5,
      "outputs": [
        {
          "output_type": "execute_result",
          "data": {
            "text/plain": [
              "  vendor_id                   pickup_datetime  \\\n",
              "0       CMT  2009-04-21T18:51:11.767205+00:00   \n",
              "1       CMT  2009-01-13T07:40:07.639754+00:00   \n",
              "2       VTS  2009-01-06T19:30:44.142187+00:00   \n",
              "3       VTS  2009-09-24T08:28:09.004451+00:00   \n",
              "4       VTS  2009-10-29T05:50:39.214629+00:00   \n",
              "\n",
              "                   dropoff_datetime  passenger_count  trip_distance  \\\n",
              "0  2009-04-21T18:57:09.433767+00:00                2           0.80   \n",
              "1  2009-01-13T07:50:36.386011+00:00                1           5.40   \n",
              "2  2009-01-06T19:43:09.908429+00:00                5           1.67   \n",
              "3  2009-09-24T08:41:56.739991+00:00                1           4.13   \n",
              "4  2009-10-29T05:57:22.880174+00:00                1           2.03   \n",
              "\n",
              "   pickup_longitude  pickup_latitude  rate_code  store_and_fwd_flag  \\\n",
              "0        -74.004114        40.742950        NaN                 NaN   \n",
              "1        -73.996506        40.747784        NaN                 NaN   \n",
              "2        -73.951340        40.752070        NaN                 NaN   \n",
              "3        -74.001117        40.729128        NaN                 NaN   \n",
              "4        -73.976600        40.756873        NaN                 NaN   \n",
              "\n",
              "   dropoff_longitude  dropoff_latitude payment_type  fare_amount  surcharge  \\\n",
              "0         -73.994712         40.747950         Cash          5.4        0.0   \n",
              "1         -73.940449         40.792385         Cash         15.4        0.0   \n",
              "2         -73.944535         40.768108         CASH          6.1        1.0   \n",
              "3         -73.958122         40.721812         CASH         12.9        0.5   \n",
              "4         -73.979757         40.776075         CASH          7.7        0.5   \n",
              "\n",
              "   tip_amount  tolls_amount  total_amount  \n",
              "0         0.0           0.0           5.4  \n",
              "1         0.0           0.0          15.4  \n",
              "2         0.0           0.0           7.1  \n",
              "3         0.0           0.0          13.4  \n",
              "4         0.0           0.0           8.2  "
            ],
            "text/html": [
              "\n",
              "  <div id=\"df-f1298562-6c2a-431e-8ec7-375f56f78291\">\n",
              "    <div class=\"colab-df-container\">\n",
              "      <div>\n",
              "<style scoped>\n",
              "    .dataframe tbody tr th:only-of-type {\n",
              "        vertical-align: middle;\n",
              "    }\n",
              "\n",
              "    .dataframe tbody tr th {\n",
              "        vertical-align: top;\n",
              "    }\n",
              "\n",
              "    .dataframe thead th {\n",
              "        text-align: right;\n",
              "    }\n",
              "</style>\n",
              "<table border=\"1\" class=\"dataframe\">\n",
              "  <thead>\n",
              "    <tr style=\"text-align: right;\">\n",
              "      <th></th>\n",
              "      <th>vendor_id</th>\n",
              "      <th>pickup_datetime</th>\n",
              "      <th>dropoff_datetime</th>\n",
              "      <th>passenger_count</th>\n",
              "      <th>trip_distance</th>\n",
              "      <th>pickup_longitude</th>\n",
              "      <th>pickup_latitude</th>\n",
              "      <th>rate_code</th>\n",
              "      <th>store_and_fwd_flag</th>\n",
              "      <th>dropoff_longitude</th>\n",
              "      <th>dropoff_latitude</th>\n",
              "      <th>payment_type</th>\n",
              "      <th>fare_amount</th>\n",
              "      <th>surcharge</th>\n",
              "      <th>tip_amount</th>\n",
              "      <th>tolls_amount</th>\n",
              "      <th>total_amount</th>\n",
              "    </tr>\n",
              "  </thead>\n",
              "  <tbody>\n",
              "    <tr>\n",
              "      <th>0</th>\n",
              "      <td>CMT</td>\n",
              "      <td>2009-04-21T18:51:11.767205+00:00</td>\n",
              "      <td>2009-04-21T18:57:09.433767+00:00</td>\n",
              "      <td>2</td>\n",
              "      <td>0.80</td>\n",
              "      <td>-74.004114</td>\n",
              "      <td>40.742950</td>\n",
              "      <td>NaN</td>\n",
              "      <td>NaN</td>\n",
              "      <td>-73.994712</td>\n",
              "      <td>40.747950</td>\n",
              "      <td>Cash</td>\n",
              "      <td>5.4</td>\n",
              "      <td>0.0</td>\n",
              "      <td>0.0</td>\n",
              "      <td>0.0</td>\n",
              "      <td>5.4</td>\n",
              "    </tr>\n",
              "    <tr>\n",
              "      <th>1</th>\n",
              "      <td>CMT</td>\n",
              "      <td>2009-01-13T07:40:07.639754+00:00</td>\n",
              "      <td>2009-01-13T07:50:36.386011+00:00</td>\n",
              "      <td>1</td>\n",
              "      <td>5.40</td>\n",
              "      <td>-73.996506</td>\n",
              "      <td>40.747784</td>\n",
              "      <td>NaN</td>\n",
              "      <td>NaN</td>\n",
              "      <td>-73.940449</td>\n",
              "      <td>40.792385</td>\n",
              "      <td>Cash</td>\n",
              "      <td>15.4</td>\n",
              "      <td>0.0</td>\n",
              "      <td>0.0</td>\n",
              "      <td>0.0</td>\n",
              "      <td>15.4</td>\n",
              "    </tr>\n",
              "    <tr>\n",
              "      <th>2</th>\n",
              "      <td>VTS</td>\n",
              "      <td>2009-01-06T19:30:44.142187+00:00</td>\n",
              "      <td>2009-01-06T19:43:09.908429+00:00</td>\n",
              "      <td>5</td>\n",
              "      <td>1.67</td>\n",
              "      <td>-73.951340</td>\n",
              "      <td>40.752070</td>\n",
              "      <td>NaN</td>\n",
              "      <td>NaN</td>\n",
              "      <td>-73.944535</td>\n",
              "      <td>40.768108</td>\n",
              "      <td>CASH</td>\n",
              "      <td>6.1</td>\n",
              "      <td>1.0</td>\n",
              "      <td>0.0</td>\n",
              "      <td>0.0</td>\n",
              "      <td>7.1</td>\n",
              "    </tr>\n",
              "    <tr>\n",
              "      <th>3</th>\n",
              "      <td>VTS</td>\n",
              "      <td>2009-09-24T08:28:09.004451+00:00</td>\n",
              "      <td>2009-09-24T08:41:56.739991+00:00</td>\n",
              "      <td>1</td>\n",
              "      <td>4.13</td>\n",
              "      <td>-74.001117</td>\n",
              "      <td>40.729128</td>\n",
              "      <td>NaN</td>\n",
              "      <td>NaN</td>\n",
              "      <td>-73.958122</td>\n",
              "      <td>40.721812</td>\n",
              "      <td>CASH</td>\n",
              "      <td>12.9</td>\n",
              "      <td>0.5</td>\n",
              "      <td>0.0</td>\n",
              "      <td>0.0</td>\n",
              "      <td>13.4</td>\n",
              "    </tr>\n",
              "    <tr>\n",
              "      <th>4</th>\n",
              "      <td>VTS</td>\n",
              "      <td>2009-10-29T05:50:39.214629+00:00</td>\n",
              "      <td>2009-10-29T05:57:22.880174+00:00</td>\n",
              "      <td>1</td>\n",
              "      <td>2.03</td>\n",
              "      <td>-73.976600</td>\n",
              "      <td>40.756873</td>\n",
              "      <td>NaN</td>\n",
              "      <td>NaN</td>\n",
              "      <td>-73.979757</td>\n",
              "      <td>40.776075</td>\n",
              "      <td>CASH</td>\n",
              "      <td>7.7</td>\n",
              "      <td>0.5</td>\n",
              "      <td>0.0</td>\n",
              "      <td>0.0</td>\n",
              "      <td>8.2</td>\n",
              "    </tr>\n",
              "  </tbody>\n",
              "</table>\n",
              "</div>\n",
              "      <button class=\"colab-df-convert\" onclick=\"convertToInteractive('df-f1298562-6c2a-431e-8ec7-375f56f78291')\"\n",
              "              title=\"Convert this dataframe to an interactive table.\"\n",
              "              style=\"display:none;\">\n",
              "        \n",
              "  <svg xmlns=\"http://www.w3.org/2000/svg\" height=\"24px\"viewBox=\"0 0 24 24\"\n",
              "       width=\"24px\">\n",
              "    <path d=\"M0 0h24v24H0V0z\" fill=\"none\"/>\n",
              "    <path d=\"M18.56 5.44l.94 2.06.94-2.06 2.06-.94-2.06-.94-.94-2.06-.94 2.06-2.06.94zm-11 1L8.5 8.5l.94-2.06 2.06-.94-2.06-.94L8.5 2.5l-.94 2.06-2.06.94zm10 10l.94 2.06.94-2.06 2.06-.94-2.06-.94-.94-2.06-.94 2.06-2.06.94z\"/><path d=\"M17.41 7.96l-1.37-1.37c-.4-.4-.92-.59-1.43-.59-.52 0-1.04.2-1.43.59L10.3 9.45l-7.72 7.72c-.78.78-.78 2.05 0 2.83L4 21.41c.39.39.9.59 1.41.59.51 0 1.02-.2 1.41-.59l7.78-7.78 2.81-2.81c.8-.78.8-2.07 0-2.86zM5.41 20L4 18.59l7.72-7.72 1.47 1.35L5.41 20z\"/>\n",
              "  </svg>\n",
              "      </button>\n",
              "      \n",
              "  <style>\n",
              "    .colab-df-container {\n",
              "      display:flex;\n",
              "      flex-wrap:wrap;\n",
              "      gap: 12px;\n",
              "    }\n",
              "\n",
              "    .colab-df-convert {\n",
              "      background-color: #E8F0FE;\n",
              "      border: none;\n",
              "      border-radius: 50%;\n",
              "      cursor: pointer;\n",
              "      display: none;\n",
              "      fill: #1967D2;\n",
              "      height: 32px;\n",
              "      padding: 0 0 0 0;\n",
              "      width: 32px;\n",
              "    }\n",
              "\n",
              "    .colab-df-convert:hover {\n",
              "      background-color: #E2EBFA;\n",
              "      box-shadow: 0px 1px 2px rgba(60, 64, 67, 0.3), 0px 1px 3px 1px rgba(60, 64, 67, 0.15);\n",
              "      fill: #174EA6;\n",
              "    }\n",
              "\n",
              "    [theme=dark] .colab-df-convert {\n",
              "      background-color: #3B4455;\n",
              "      fill: #D2E3FC;\n",
              "    }\n",
              "\n",
              "    [theme=dark] .colab-df-convert:hover {\n",
              "      background-color: #434B5C;\n",
              "      box-shadow: 0px 1px 3px 1px rgba(0, 0, 0, 0.15);\n",
              "      filter: drop-shadow(0px 1px 2px rgba(0, 0, 0, 0.3));\n",
              "      fill: #FFFFFF;\n",
              "    }\n",
              "  </style>\n",
              "\n",
              "      <script>\n",
              "        const buttonEl =\n",
              "          document.querySelector('#df-f1298562-6c2a-431e-8ec7-375f56f78291 button.colab-df-convert');\n",
              "        buttonEl.style.display =\n",
              "          google.colab.kernel.accessAllowed ? 'block' : 'none';\n",
              "\n",
              "        async function convertToInteractive(key) {\n",
              "          const element = document.querySelector('#df-f1298562-6c2a-431e-8ec7-375f56f78291');\n",
              "          const dataTable =\n",
              "            await google.colab.kernel.invokeFunction('convertToInteractive',\n",
              "                                                     [key], {});\n",
              "          if (!dataTable) return;\n",
              "\n",
              "          const docLinkHtml = 'Like what you see? Visit the ' +\n",
              "            '<a target=\"_blank\" href=https://colab.research.google.com/notebooks/data_table.ipynb>data table notebook</a>'\n",
              "            + ' to learn more about interactive tables.';\n",
              "          element.innerHTML = '';\n",
              "          dataTable['output_type'] = 'display_data';\n",
              "          await google.colab.output.renderOutput(dataTable, element);\n",
              "          const docLink = document.createElement('div');\n",
              "          docLink.innerHTML = docLinkHtml;\n",
              "          element.appendChild(docLink);\n",
              "        }\n",
              "      </script>\n",
              "    </div>\n",
              "  </div>\n",
              "  "
            ]
          },
          "metadata": {},
          "execution_count": 5
        }
      ]
    },
    {
      "cell_type": "markdown",
      "source": [
        "# **Primeiro Desafio**"
      ],
      "metadata": {
        "id": "h6WaCdsE0ZQh"
      }
    },
    {
      "cell_type": "code",
      "source": [
        "dfmediaviagem=dfgeral[['passenger_count','trip_distance']]"
      ],
      "metadata": {
        "id": "rzFEvYbMrHL5"
      },
      "execution_count": null,
      "outputs": []
    },
    {
      "cell_type": "code",
      "source": [
        "dfmediaviagem"
      ],
      "metadata": {
        "colab": {
          "base_uri": "https://localhost:8080/",
          "height": 424
        },
        "id": "NAuwuLkisVAb",
        "outputId": "c7f8a678-f1fc-4aa5-bdbb-b81ba5802b77"
      },
      "execution_count": null,
      "outputs": [
        {
          "output_type": "execute_result",
          "data": {
            "text/plain": [
              "        passenger_count  trip_distance\n",
              "0                     2           0.80\n",
              "1                     1           5.40\n",
              "2                     5           1.67\n",
              "3                     1           4.13\n",
              "4                     1           2.03\n",
              "...                 ...            ...\n",
              "999995                3           6.30\n",
              "999996                1           1.80\n",
              "999997                4           2.90\n",
              "999998                2           1.70\n",
              "999999                1           2.00\n",
              "\n",
              "[4000000 rows x 2 columns]"
            ],
            "text/html": [
              "\n",
              "  <div id=\"df-c4e8e597-c225-442d-bc75-fad564b8a514\">\n",
              "    <div class=\"colab-df-container\">\n",
              "      <div>\n",
              "<style scoped>\n",
              "    .dataframe tbody tr th:only-of-type {\n",
              "        vertical-align: middle;\n",
              "    }\n",
              "\n",
              "    .dataframe tbody tr th {\n",
              "        vertical-align: top;\n",
              "    }\n",
              "\n",
              "    .dataframe thead th {\n",
              "        text-align: right;\n",
              "    }\n",
              "</style>\n",
              "<table border=\"1\" class=\"dataframe\">\n",
              "  <thead>\n",
              "    <tr style=\"text-align: right;\">\n",
              "      <th></th>\n",
              "      <th>passenger_count</th>\n",
              "      <th>trip_distance</th>\n",
              "    </tr>\n",
              "  </thead>\n",
              "  <tbody>\n",
              "    <tr>\n",
              "      <th>0</th>\n",
              "      <td>2</td>\n",
              "      <td>0.80</td>\n",
              "    </tr>\n",
              "    <tr>\n",
              "      <th>1</th>\n",
              "      <td>1</td>\n",
              "      <td>5.40</td>\n",
              "    </tr>\n",
              "    <tr>\n",
              "      <th>2</th>\n",
              "      <td>5</td>\n",
              "      <td>1.67</td>\n",
              "    </tr>\n",
              "    <tr>\n",
              "      <th>3</th>\n",
              "      <td>1</td>\n",
              "      <td>4.13</td>\n",
              "    </tr>\n",
              "    <tr>\n",
              "      <th>4</th>\n",
              "      <td>1</td>\n",
              "      <td>2.03</td>\n",
              "    </tr>\n",
              "    <tr>\n",
              "      <th>...</th>\n",
              "      <td>...</td>\n",
              "      <td>...</td>\n",
              "    </tr>\n",
              "    <tr>\n",
              "      <th>999995</th>\n",
              "      <td>3</td>\n",
              "      <td>6.30</td>\n",
              "    </tr>\n",
              "    <tr>\n",
              "      <th>999996</th>\n",
              "      <td>1</td>\n",
              "      <td>1.80</td>\n",
              "    </tr>\n",
              "    <tr>\n",
              "      <th>999997</th>\n",
              "      <td>4</td>\n",
              "      <td>2.90</td>\n",
              "    </tr>\n",
              "    <tr>\n",
              "      <th>999998</th>\n",
              "      <td>2</td>\n",
              "      <td>1.70</td>\n",
              "    </tr>\n",
              "    <tr>\n",
              "      <th>999999</th>\n",
              "      <td>1</td>\n",
              "      <td>2.00</td>\n",
              "    </tr>\n",
              "  </tbody>\n",
              "</table>\n",
              "<p>4000000 rows × 2 columns</p>\n",
              "</div>\n",
              "      <button class=\"colab-df-convert\" onclick=\"convertToInteractive('df-c4e8e597-c225-442d-bc75-fad564b8a514')\"\n",
              "              title=\"Convert this dataframe to an interactive table.\"\n",
              "              style=\"display:none;\">\n",
              "        \n",
              "  <svg xmlns=\"http://www.w3.org/2000/svg\" height=\"24px\"viewBox=\"0 0 24 24\"\n",
              "       width=\"24px\">\n",
              "    <path d=\"M0 0h24v24H0V0z\" fill=\"none\"/>\n",
              "    <path d=\"M18.56 5.44l.94 2.06.94-2.06 2.06-.94-2.06-.94-.94-2.06-.94 2.06-2.06.94zm-11 1L8.5 8.5l.94-2.06 2.06-.94-2.06-.94L8.5 2.5l-.94 2.06-2.06.94zm10 10l.94 2.06.94-2.06 2.06-.94-2.06-.94-.94-2.06-.94 2.06-2.06.94z\"/><path d=\"M17.41 7.96l-1.37-1.37c-.4-.4-.92-.59-1.43-.59-.52 0-1.04.2-1.43.59L10.3 9.45l-7.72 7.72c-.78.78-.78 2.05 0 2.83L4 21.41c.39.39.9.59 1.41.59.51 0 1.02-.2 1.41-.59l7.78-7.78 2.81-2.81c.8-.78.8-2.07 0-2.86zM5.41 20L4 18.59l7.72-7.72 1.47 1.35L5.41 20z\"/>\n",
              "  </svg>\n",
              "      </button>\n",
              "      \n",
              "  <style>\n",
              "    .colab-df-container {\n",
              "      display:flex;\n",
              "      flex-wrap:wrap;\n",
              "      gap: 12px;\n",
              "    }\n",
              "\n",
              "    .colab-df-convert {\n",
              "      background-color: #E8F0FE;\n",
              "      border: none;\n",
              "      border-radius: 50%;\n",
              "      cursor: pointer;\n",
              "      display: none;\n",
              "      fill: #1967D2;\n",
              "      height: 32px;\n",
              "      padding: 0 0 0 0;\n",
              "      width: 32px;\n",
              "    }\n",
              "\n",
              "    .colab-df-convert:hover {\n",
              "      background-color: #E2EBFA;\n",
              "      box-shadow: 0px 1px 2px rgba(60, 64, 67, 0.3), 0px 1px 3px 1px rgba(60, 64, 67, 0.15);\n",
              "      fill: #174EA6;\n",
              "    }\n",
              "\n",
              "    [theme=dark] .colab-df-convert {\n",
              "      background-color: #3B4455;\n",
              "      fill: #D2E3FC;\n",
              "    }\n",
              "\n",
              "    [theme=dark] .colab-df-convert:hover {\n",
              "      background-color: #434B5C;\n",
              "      box-shadow: 0px 1px 3px 1px rgba(0, 0, 0, 0.15);\n",
              "      filter: drop-shadow(0px 1px 2px rgba(0, 0, 0, 0.3));\n",
              "      fill: #FFFFFF;\n",
              "    }\n",
              "  </style>\n",
              "\n",
              "      <script>\n",
              "        const buttonEl =\n",
              "          document.querySelector('#df-c4e8e597-c225-442d-bc75-fad564b8a514 button.colab-df-convert');\n",
              "        buttonEl.style.display =\n",
              "          google.colab.kernel.accessAllowed ? 'block' : 'none';\n",
              "\n",
              "        async function convertToInteractive(key) {\n",
              "          const element = document.querySelector('#df-c4e8e597-c225-442d-bc75-fad564b8a514');\n",
              "          const dataTable =\n",
              "            await google.colab.kernel.invokeFunction('convertToInteractive',\n",
              "                                                     [key], {});\n",
              "          if (!dataTable) return;\n",
              "\n",
              "          const docLinkHtml = 'Like what you see? Visit the ' +\n",
              "            '<a target=\"_blank\" href=https://colab.research.google.com/notebooks/data_table.ipynb>data table notebook</a>'\n",
              "            + ' to learn more about interactive tables.';\n",
              "          element.innerHTML = '';\n",
              "          dataTable['output_type'] = 'display_data';\n",
              "          await google.colab.output.renderOutput(dataTable, element);\n",
              "          const docLink = document.createElement('div');\n",
              "          docLink.innerHTML = docLinkHtml;\n",
              "          element.appendChild(docLink);\n",
              "        }\n",
              "      </script>\n",
              "    </div>\n",
              "  </div>\n",
              "  "
            ]
          },
          "metadata": {},
          "execution_count": 47
        }
      ]
    },
    {
      "cell_type": "code",
      "source": [
        "dfresultado1=dfmediaviagem[dfmediaviagem['passenger_count'] <= 2]"
      ],
      "metadata": {
        "id": "yqyaok57t1vL"
      },
      "execution_count": null,
      "outputs": []
    },
    {
      "cell_type": "code",
      "source": [
        "dfresultado1"
      ],
      "metadata": {
        "colab": {
          "base_uri": "https://localhost:8080/",
          "height": 424
        },
        "id": "Izf0koYDxvja",
        "outputId": "fb3a279c-c12e-4fa0-e612-a32ef06b285a"
      },
      "execution_count": null,
      "outputs": [
        {
          "output_type": "execute_result",
          "data": {
            "text/plain": [
              "        passenger_count  trip_distance\n",
              "0                     2           0.80\n",
              "1                     1           5.40\n",
              "3                     1           4.13\n",
              "4                     1           2.03\n",
              "5                     1           1.15\n",
              "...                 ...            ...\n",
              "999993                1           1.40\n",
              "999994                2           1.60\n",
              "999996                1           1.80\n",
              "999998                2           1.70\n",
              "999999                1           2.00\n",
              "\n",
              "[3319652 rows x 2 columns]"
            ],
            "text/html": [
              "\n",
              "  <div id=\"df-4eeebcb7-c8ea-4f40-8aaf-7d97f023999c\">\n",
              "    <div class=\"colab-df-container\">\n",
              "      <div>\n",
              "<style scoped>\n",
              "    .dataframe tbody tr th:only-of-type {\n",
              "        vertical-align: middle;\n",
              "    }\n",
              "\n",
              "    .dataframe tbody tr th {\n",
              "        vertical-align: top;\n",
              "    }\n",
              "\n",
              "    .dataframe thead th {\n",
              "        text-align: right;\n",
              "    }\n",
              "</style>\n",
              "<table border=\"1\" class=\"dataframe\">\n",
              "  <thead>\n",
              "    <tr style=\"text-align: right;\">\n",
              "      <th></th>\n",
              "      <th>passenger_count</th>\n",
              "      <th>trip_distance</th>\n",
              "    </tr>\n",
              "  </thead>\n",
              "  <tbody>\n",
              "    <tr>\n",
              "      <th>0</th>\n",
              "      <td>2</td>\n",
              "      <td>0.80</td>\n",
              "    </tr>\n",
              "    <tr>\n",
              "      <th>1</th>\n",
              "      <td>1</td>\n",
              "      <td>5.40</td>\n",
              "    </tr>\n",
              "    <tr>\n",
              "      <th>3</th>\n",
              "      <td>1</td>\n",
              "      <td>4.13</td>\n",
              "    </tr>\n",
              "    <tr>\n",
              "      <th>4</th>\n",
              "      <td>1</td>\n",
              "      <td>2.03</td>\n",
              "    </tr>\n",
              "    <tr>\n",
              "      <th>5</th>\n",
              "      <td>1</td>\n",
              "      <td>1.15</td>\n",
              "    </tr>\n",
              "    <tr>\n",
              "      <th>...</th>\n",
              "      <td>...</td>\n",
              "      <td>...</td>\n",
              "    </tr>\n",
              "    <tr>\n",
              "      <th>999993</th>\n",
              "      <td>1</td>\n",
              "      <td>1.40</td>\n",
              "    </tr>\n",
              "    <tr>\n",
              "      <th>999994</th>\n",
              "      <td>2</td>\n",
              "      <td>1.60</td>\n",
              "    </tr>\n",
              "    <tr>\n",
              "      <th>999996</th>\n",
              "      <td>1</td>\n",
              "      <td>1.80</td>\n",
              "    </tr>\n",
              "    <tr>\n",
              "      <th>999998</th>\n",
              "      <td>2</td>\n",
              "      <td>1.70</td>\n",
              "    </tr>\n",
              "    <tr>\n",
              "      <th>999999</th>\n",
              "      <td>1</td>\n",
              "      <td>2.00</td>\n",
              "    </tr>\n",
              "  </tbody>\n",
              "</table>\n",
              "<p>3319652 rows × 2 columns</p>\n",
              "</div>\n",
              "      <button class=\"colab-df-convert\" onclick=\"convertToInteractive('df-4eeebcb7-c8ea-4f40-8aaf-7d97f023999c')\"\n",
              "              title=\"Convert this dataframe to an interactive table.\"\n",
              "              style=\"display:none;\">\n",
              "        \n",
              "  <svg xmlns=\"http://www.w3.org/2000/svg\" height=\"24px\"viewBox=\"0 0 24 24\"\n",
              "       width=\"24px\">\n",
              "    <path d=\"M0 0h24v24H0V0z\" fill=\"none\"/>\n",
              "    <path d=\"M18.56 5.44l.94 2.06.94-2.06 2.06-.94-2.06-.94-.94-2.06-.94 2.06-2.06.94zm-11 1L8.5 8.5l.94-2.06 2.06-.94-2.06-.94L8.5 2.5l-.94 2.06-2.06.94zm10 10l.94 2.06.94-2.06 2.06-.94-2.06-.94-.94-2.06-.94 2.06-2.06.94z\"/><path d=\"M17.41 7.96l-1.37-1.37c-.4-.4-.92-.59-1.43-.59-.52 0-1.04.2-1.43.59L10.3 9.45l-7.72 7.72c-.78.78-.78 2.05 0 2.83L4 21.41c.39.39.9.59 1.41.59.51 0 1.02-.2 1.41-.59l7.78-7.78 2.81-2.81c.8-.78.8-2.07 0-2.86zM5.41 20L4 18.59l7.72-7.72 1.47 1.35L5.41 20z\"/>\n",
              "  </svg>\n",
              "      </button>\n",
              "      \n",
              "  <style>\n",
              "    .colab-df-container {\n",
              "      display:flex;\n",
              "      flex-wrap:wrap;\n",
              "      gap: 12px;\n",
              "    }\n",
              "\n",
              "    .colab-df-convert {\n",
              "      background-color: #E8F0FE;\n",
              "      border: none;\n",
              "      border-radius: 50%;\n",
              "      cursor: pointer;\n",
              "      display: none;\n",
              "      fill: #1967D2;\n",
              "      height: 32px;\n",
              "      padding: 0 0 0 0;\n",
              "      width: 32px;\n",
              "    }\n",
              "\n",
              "    .colab-df-convert:hover {\n",
              "      background-color: #E2EBFA;\n",
              "      box-shadow: 0px 1px 2px rgba(60, 64, 67, 0.3), 0px 1px 3px 1px rgba(60, 64, 67, 0.15);\n",
              "      fill: #174EA6;\n",
              "    }\n",
              "\n",
              "    [theme=dark] .colab-df-convert {\n",
              "      background-color: #3B4455;\n",
              "      fill: #D2E3FC;\n",
              "    }\n",
              "\n",
              "    [theme=dark] .colab-df-convert:hover {\n",
              "      background-color: #434B5C;\n",
              "      box-shadow: 0px 1px 3px 1px rgba(0, 0, 0, 0.15);\n",
              "      filter: drop-shadow(0px 1px 2px rgba(0, 0, 0, 0.3));\n",
              "      fill: #FFFFFF;\n",
              "    }\n",
              "  </style>\n",
              "\n",
              "      <script>\n",
              "        const buttonEl =\n",
              "          document.querySelector('#df-4eeebcb7-c8ea-4f40-8aaf-7d97f023999c button.colab-df-convert');\n",
              "        buttonEl.style.display =\n",
              "          google.colab.kernel.accessAllowed ? 'block' : 'none';\n",
              "\n",
              "        async function convertToInteractive(key) {\n",
              "          const element = document.querySelector('#df-4eeebcb7-c8ea-4f40-8aaf-7d97f023999c');\n",
              "          const dataTable =\n",
              "            await google.colab.kernel.invokeFunction('convertToInteractive',\n",
              "                                                     [key], {});\n",
              "          if (!dataTable) return;\n",
              "\n",
              "          const docLinkHtml = 'Like what you see? Visit the ' +\n",
              "            '<a target=\"_blank\" href=https://colab.research.google.com/notebooks/data_table.ipynb>data table notebook</a>'\n",
              "            + ' to learn more about interactive tables.';\n",
              "          element.innerHTML = '';\n",
              "          dataTable['output_type'] = 'display_data';\n",
              "          await google.colab.output.renderOutput(dataTable, element);\n",
              "          const docLink = document.createElement('div');\n",
              "          docLink.innerHTML = docLinkHtml;\n",
              "          element.appendChild(docLink);\n",
              "        }\n",
              "      </script>\n",
              "    </div>\n",
              "  </div>\n",
              "  "
            ]
          },
          "metadata": {},
          "execution_count": 48
        }
      ]
    },
    {
      "cell_type": "code",
      "source": [
        "dfresultado1.mean()"
      ],
      "metadata": {
        "colab": {
          "base_uri": "https://localhost:8080/"
        },
        "id": "aurtAEuTxF07",
        "outputId": "8751edbd-3a2b-4f84-b511-377e9ba37dc2"
      },
      "execution_count": null,
      "outputs": [
        {
          "output_type": "execute_result",
          "data": {
            "text/plain": [
              "passenger_count    1.219706\n",
              "trip_distance      2.662527\n",
              "dtype: float64"
            ]
          },
          "metadata": {},
          "execution_count": 52
        }
      ]
    },
    {
      "cell_type": "markdown",
      "source": [
        "# **Segundo desafio**"
      ],
      "metadata": {
        "id": "uuL-H5-b0GzZ"
      }
    },
    {
      "cell_type": "code",
      "source": [
        "dfvendors=dfgeral[['vendor_id','total_amount']]"
      ],
      "metadata": {
        "id": "yfFCNK1I0MKP"
      },
      "execution_count": null,
      "outputs": []
    },
    {
      "cell_type": "code",
      "source": [
        "dfvendors"
      ],
      "metadata": {
        "colab": {
          "base_uri": "https://localhost:8080/",
          "height": 424
        },
        "id": "p8NAR2Fk4xbJ",
        "outputId": "dd888279-8a78-41e3-e1a3-f8aae67bef57"
      },
      "execution_count": null,
      "outputs": [
        {
          "output_type": "execute_result",
          "data": {
            "text/plain": [
              "       vendor_id  total_amount\n",
              "0            CMT           5.4\n",
              "1            CMT          15.4\n",
              "2            VTS           7.1\n",
              "3            VTS          13.4\n",
              "4            VTS           8.2\n",
              "...          ...           ...\n",
              "999995       CMT          19.4\n",
              "999996       CMT           7.4\n",
              "999997       CMT          10.6\n",
              "999998       CMT           9.4\n",
              "999999       CMT           7.8\n",
              "\n",
              "[4000000 rows x 2 columns]"
            ],
            "text/html": [
              "\n",
              "  <div id=\"df-d32c9076-d046-46fd-82fa-52514e14a0c7\">\n",
              "    <div class=\"colab-df-container\">\n",
              "      <div>\n",
              "<style scoped>\n",
              "    .dataframe tbody tr th:only-of-type {\n",
              "        vertical-align: middle;\n",
              "    }\n",
              "\n",
              "    .dataframe tbody tr th {\n",
              "        vertical-align: top;\n",
              "    }\n",
              "\n",
              "    .dataframe thead th {\n",
              "        text-align: right;\n",
              "    }\n",
              "</style>\n",
              "<table border=\"1\" class=\"dataframe\">\n",
              "  <thead>\n",
              "    <tr style=\"text-align: right;\">\n",
              "      <th></th>\n",
              "      <th>vendor_id</th>\n",
              "      <th>total_amount</th>\n",
              "    </tr>\n",
              "  </thead>\n",
              "  <tbody>\n",
              "    <tr>\n",
              "      <th>0</th>\n",
              "      <td>CMT</td>\n",
              "      <td>5.4</td>\n",
              "    </tr>\n",
              "    <tr>\n",
              "      <th>1</th>\n",
              "      <td>CMT</td>\n",
              "      <td>15.4</td>\n",
              "    </tr>\n",
              "    <tr>\n",
              "      <th>2</th>\n",
              "      <td>VTS</td>\n",
              "      <td>7.1</td>\n",
              "    </tr>\n",
              "    <tr>\n",
              "      <th>3</th>\n",
              "      <td>VTS</td>\n",
              "      <td>13.4</td>\n",
              "    </tr>\n",
              "    <tr>\n",
              "      <th>4</th>\n",
              "      <td>VTS</td>\n",
              "      <td>8.2</td>\n",
              "    </tr>\n",
              "    <tr>\n",
              "      <th>...</th>\n",
              "      <td>...</td>\n",
              "      <td>...</td>\n",
              "    </tr>\n",
              "    <tr>\n",
              "      <th>999995</th>\n",
              "      <td>CMT</td>\n",
              "      <td>19.4</td>\n",
              "    </tr>\n",
              "    <tr>\n",
              "      <th>999996</th>\n",
              "      <td>CMT</td>\n",
              "      <td>7.4</td>\n",
              "    </tr>\n",
              "    <tr>\n",
              "      <th>999997</th>\n",
              "      <td>CMT</td>\n",
              "      <td>10.6</td>\n",
              "    </tr>\n",
              "    <tr>\n",
              "      <th>999998</th>\n",
              "      <td>CMT</td>\n",
              "      <td>9.4</td>\n",
              "    </tr>\n",
              "    <tr>\n",
              "      <th>999999</th>\n",
              "      <td>CMT</td>\n",
              "      <td>7.8</td>\n",
              "    </tr>\n",
              "  </tbody>\n",
              "</table>\n",
              "<p>4000000 rows × 2 columns</p>\n",
              "</div>\n",
              "      <button class=\"colab-df-convert\" onclick=\"convertToInteractive('df-d32c9076-d046-46fd-82fa-52514e14a0c7')\"\n",
              "              title=\"Convert this dataframe to an interactive table.\"\n",
              "              style=\"display:none;\">\n",
              "        \n",
              "  <svg xmlns=\"http://www.w3.org/2000/svg\" height=\"24px\"viewBox=\"0 0 24 24\"\n",
              "       width=\"24px\">\n",
              "    <path d=\"M0 0h24v24H0V0z\" fill=\"none\"/>\n",
              "    <path d=\"M18.56 5.44l.94 2.06.94-2.06 2.06-.94-2.06-.94-.94-2.06-.94 2.06-2.06.94zm-11 1L8.5 8.5l.94-2.06 2.06-.94-2.06-.94L8.5 2.5l-.94 2.06-2.06.94zm10 10l.94 2.06.94-2.06 2.06-.94-2.06-.94-.94-2.06-.94 2.06-2.06.94z\"/><path d=\"M17.41 7.96l-1.37-1.37c-.4-.4-.92-.59-1.43-.59-.52 0-1.04.2-1.43.59L10.3 9.45l-7.72 7.72c-.78.78-.78 2.05 0 2.83L4 21.41c.39.39.9.59 1.41.59.51 0 1.02-.2 1.41-.59l7.78-7.78 2.81-2.81c.8-.78.8-2.07 0-2.86zM5.41 20L4 18.59l7.72-7.72 1.47 1.35L5.41 20z\"/>\n",
              "  </svg>\n",
              "      </button>\n",
              "      \n",
              "  <style>\n",
              "    .colab-df-container {\n",
              "      display:flex;\n",
              "      flex-wrap:wrap;\n",
              "      gap: 12px;\n",
              "    }\n",
              "\n",
              "    .colab-df-convert {\n",
              "      background-color: #E8F0FE;\n",
              "      border: none;\n",
              "      border-radius: 50%;\n",
              "      cursor: pointer;\n",
              "      display: none;\n",
              "      fill: #1967D2;\n",
              "      height: 32px;\n",
              "      padding: 0 0 0 0;\n",
              "      width: 32px;\n",
              "    }\n",
              "\n",
              "    .colab-df-convert:hover {\n",
              "      background-color: #E2EBFA;\n",
              "      box-shadow: 0px 1px 2px rgba(60, 64, 67, 0.3), 0px 1px 3px 1px rgba(60, 64, 67, 0.15);\n",
              "      fill: #174EA6;\n",
              "    }\n",
              "\n",
              "    [theme=dark] .colab-df-convert {\n",
              "      background-color: #3B4455;\n",
              "      fill: #D2E3FC;\n",
              "    }\n",
              "\n",
              "    [theme=dark] .colab-df-convert:hover {\n",
              "      background-color: #434B5C;\n",
              "      box-shadow: 0px 1px 3px 1px rgba(0, 0, 0, 0.15);\n",
              "      filter: drop-shadow(0px 1px 2px rgba(0, 0, 0, 0.3));\n",
              "      fill: #FFFFFF;\n",
              "    }\n",
              "  </style>\n",
              "\n",
              "      <script>\n",
              "        const buttonEl =\n",
              "          document.querySelector('#df-d32c9076-d046-46fd-82fa-52514e14a0c7 button.colab-df-convert');\n",
              "        buttonEl.style.display =\n",
              "          google.colab.kernel.accessAllowed ? 'block' : 'none';\n",
              "\n",
              "        async function convertToInteractive(key) {\n",
              "          const element = document.querySelector('#df-d32c9076-d046-46fd-82fa-52514e14a0c7');\n",
              "          const dataTable =\n",
              "            await google.colab.kernel.invokeFunction('convertToInteractive',\n",
              "                                                     [key], {});\n",
              "          if (!dataTable) return;\n",
              "\n",
              "          const docLinkHtml = 'Like what you see? Visit the ' +\n",
              "            '<a target=\"_blank\" href=https://colab.research.google.com/notebooks/data_table.ipynb>data table notebook</a>'\n",
              "            + ' to learn more about interactive tables.';\n",
              "          element.innerHTML = '';\n",
              "          dataTable['output_type'] = 'display_data';\n",
              "          await google.colab.output.renderOutput(dataTable, element);\n",
              "          const docLink = document.createElement('div');\n",
              "          docLink.innerHTML = docLinkHtml;\n",
              "          element.appendChild(docLink);\n",
              "        }\n",
              "      </script>\n",
              "    </div>\n",
              "  </div>\n",
              "  "
            ]
          },
          "metadata": {},
          "execution_count": 87
        }
      ]
    },
    {
      "cell_type": "code",
      "source": [
        "dfvendors2=dfvendors.groupby('vendor_id', as_index=False)['total_amount'].sum()"
      ],
      "metadata": {
        "id": "YY2yn_LQ09iC"
      },
      "execution_count": null,
      "outputs": []
    },
    {
      "cell_type": "code",
      "source": [
        "dfvendors2.sort_values('total_amount', ascending=False)"
      ],
      "metadata": {
        "colab": {
          "base_uri": "https://localhost:8080/",
          "height": 175
        },
        "id": "IIu5vxJI2HFa",
        "outputId": "9c936773-e589-406e-acc7-b7a1ab27bf6b"
      },
      "execution_count": null,
      "outputs": [
        {
          "output_type": "execute_result",
          "data": {
            "text/plain": [
              "  vendor_id  total_amount\n",
              "0       CMT   19549084.28\n",
              "3       VTS   19043434.00\n",
              "1       DDS    2714901.72\n",
              "2        TS         45.60"
            ],
            "text/html": [
              "\n",
              "  <div id=\"df-a7765306-c142-47ab-8322-34b68326e973\">\n",
              "    <div class=\"colab-df-container\">\n",
              "      <div>\n",
              "<style scoped>\n",
              "    .dataframe tbody tr th:only-of-type {\n",
              "        vertical-align: middle;\n",
              "    }\n",
              "\n",
              "    .dataframe tbody tr th {\n",
              "        vertical-align: top;\n",
              "    }\n",
              "\n",
              "    .dataframe thead th {\n",
              "        text-align: right;\n",
              "    }\n",
              "</style>\n",
              "<table border=\"1\" class=\"dataframe\">\n",
              "  <thead>\n",
              "    <tr style=\"text-align: right;\">\n",
              "      <th></th>\n",
              "      <th>vendor_id</th>\n",
              "      <th>total_amount</th>\n",
              "    </tr>\n",
              "  </thead>\n",
              "  <tbody>\n",
              "    <tr>\n",
              "      <th>0</th>\n",
              "      <td>CMT</td>\n",
              "      <td>19549084.28</td>\n",
              "    </tr>\n",
              "    <tr>\n",
              "      <th>3</th>\n",
              "      <td>VTS</td>\n",
              "      <td>19043434.00</td>\n",
              "    </tr>\n",
              "    <tr>\n",
              "      <th>1</th>\n",
              "      <td>DDS</td>\n",
              "      <td>2714901.72</td>\n",
              "    </tr>\n",
              "    <tr>\n",
              "      <th>2</th>\n",
              "      <td>TS</td>\n",
              "      <td>45.60</td>\n",
              "    </tr>\n",
              "  </tbody>\n",
              "</table>\n",
              "</div>\n",
              "      <button class=\"colab-df-convert\" onclick=\"convertToInteractive('df-a7765306-c142-47ab-8322-34b68326e973')\"\n",
              "              title=\"Convert this dataframe to an interactive table.\"\n",
              "              style=\"display:none;\">\n",
              "        \n",
              "  <svg xmlns=\"http://www.w3.org/2000/svg\" height=\"24px\"viewBox=\"0 0 24 24\"\n",
              "       width=\"24px\">\n",
              "    <path d=\"M0 0h24v24H0V0z\" fill=\"none\"/>\n",
              "    <path d=\"M18.56 5.44l.94 2.06.94-2.06 2.06-.94-2.06-.94-.94-2.06-.94 2.06-2.06.94zm-11 1L8.5 8.5l.94-2.06 2.06-.94-2.06-.94L8.5 2.5l-.94 2.06-2.06.94zm10 10l.94 2.06.94-2.06 2.06-.94-2.06-.94-.94-2.06-.94 2.06-2.06.94z\"/><path d=\"M17.41 7.96l-1.37-1.37c-.4-.4-.92-.59-1.43-.59-.52 0-1.04.2-1.43.59L10.3 9.45l-7.72 7.72c-.78.78-.78 2.05 0 2.83L4 21.41c.39.39.9.59 1.41.59.51 0 1.02-.2 1.41-.59l7.78-7.78 2.81-2.81c.8-.78.8-2.07 0-2.86zM5.41 20L4 18.59l7.72-7.72 1.47 1.35L5.41 20z\"/>\n",
              "  </svg>\n",
              "      </button>\n",
              "      \n",
              "  <style>\n",
              "    .colab-df-container {\n",
              "      display:flex;\n",
              "      flex-wrap:wrap;\n",
              "      gap: 12px;\n",
              "    }\n",
              "\n",
              "    .colab-df-convert {\n",
              "      background-color: #E8F0FE;\n",
              "      border: none;\n",
              "      border-radius: 50%;\n",
              "      cursor: pointer;\n",
              "      display: none;\n",
              "      fill: #1967D2;\n",
              "      height: 32px;\n",
              "      padding: 0 0 0 0;\n",
              "      width: 32px;\n",
              "    }\n",
              "\n",
              "    .colab-df-convert:hover {\n",
              "      background-color: #E2EBFA;\n",
              "      box-shadow: 0px 1px 2px rgba(60, 64, 67, 0.3), 0px 1px 3px 1px rgba(60, 64, 67, 0.15);\n",
              "      fill: #174EA6;\n",
              "    }\n",
              "\n",
              "    [theme=dark] .colab-df-convert {\n",
              "      background-color: #3B4455;\n",
              "      fill: #D2E3FC;\n",
              "    }\n",
              "\n",
              "    [theme=dark] .colab-df-convert:hover {\n",
              "      background-color: #434B5C;\n",
              "      box-shadow: 0px 1px 3px 1px rgba(0, 0, 0, 0.15);\n",
              "      filter: drop-shadow(0px 1px 2px rgba(0, 0, 0, 0.3));\n",
              "      fill: #FFFFFF;\n",
              "    }\n",
              "  </style>\n",
              "\n",
              "      <script>\n",
              "        const buttonEl =\n",
              "          document.querySelector('#df-a7765306-c142-47ab-8322-34b68326e973 button.colab-df-convert');\n",
              "        buttonEl.style.display =\n",
              "          google.colab.kernel.accessAllowed ? 'block' : 'none';\n",
              "\n",
              "        async function convertToInteractive(key) {\n",
              "          const element = document.querySelector('#df-a7765306-c142-47ab-8322-34b68326e973');\n",
              "          const dataTable =\n",
              "            await google.colab.kernel.invokeFunction('convertToInteractive',\n",
              "                                                     [key], {});\n",
              "          if (!dataTable) return;\n",
              "\n",
              "          const docLinkHtml = 'Like what you see? Visit the ' +\n",
              "            '<a target=\"_blank\" href=https://colab.research.google.com/notebooks/data_table.ipynb>data table notebook</a>'\n",
              "            + ' to learn more about interactive tables.';\n",
              "          element.innerHTML = '';\n",
              "          dataTable['output_type'] = 'display_data';\n",
              "          await google.colab.output.renderOutput(dataTable, element);\n",
              "          const docLink = document.createElement('div');\n",
              "          docLink.innerHTML = docLinkHtml;\n",
              "          element.appendChild(docLink);\n",
              "        }\n",
              "      </script>\n",
              "    </div>\n",
              "  </div>\n",
              "  "
            ]
          },
          "metadata": {},
          "execution_count": 89
        }
      ]
    },
    {
      "cell_type": "markdown",
      "source": [
        "# **Terceiro desafio**"
      ],
      "metadata": {
        "id": "2baEe4Af5-l5"
      }
    },
    {
      "cell_type": "code",
      "source": [
        "dfgrafico=dfgeral[['pickup_datetime','payment_type']]\n",
        "dfgrafico09=data2009[['pickup_datetime','payment_type']]\n",
        "dfgrafico10=data2010[['pickup_datetime','payment_type']]\n",
        "dfgrafico11=data2011[['pickup_datetime','payment_type']]\n",
        "dfgrafico12=data2012[['pickup_datetime','payment_type']]\n",
        "print(dfgrafico)"
      ],
      "metadata": {
        "colab": {
          "base_uri": "https://localhost:8080/"
        },
        "id": "O9EIgeV86B0o",
        "outputId": "a92835b5-d22c-4ff6-83b8-1391f24592f4"
      },
      "execution_count": 40,
      "outputs": [
        {
          "output_type": "stream",
          "name": "stdout",
          "text": [
            "                         pickup_datetime payment_type\n",
            "0       2009-04-21T18:51:11.767205+00:00         Cash\n",
            "1       2009-01-13T07:40:07.639754+00:00         Cash\n",
            "2       2009-01-06T19:30:44.142187+00:00         CASH\n",
            "3       2009-09-24T08:28:09.004451+00:00         CASH\n",
            "4       2009-10-29T05:50:39.214629+00:00         CASH\n",
            "...                                  ...          ...\n",
            "999995   2012-07-02T02:16:07.72331+00:00         Cash\n",
            "999996  2012-04-11T16:24:49.255035+00:00         Cash\n",
            "999997   2012-09-15T15:00:58.80813+00:00         Cash\n",
            "999998   2012-06-25T09:17:36.81712+00:00       Credit\n",
            "999999  2012-08-24T07:25:13.503063+00:00         Cash\n",
            "\n",
            "[4000000 rows x 2 columns]\n"
          ]
        }
      ]
    },
    {
      "cell_type": "code",
      "source": [
        "dfgrafico['pickup_datetime']=pd.to_datetime(dfgrafico.pickup_datetime)\n",
        "dfgrafico09['pickup_datetime']=pd.to_datetime(dfgrafico09.pickup_datetime)\n",
        "dfgrafico10['pickup_datetime']=pd.to_datetime(dfgrafico10.pickup_datetime)\n",
        "dfgrafico11['pickup_datetime']=pd.to_datetime(dfgrafico11.pickup_datetime)\n",
        "dfgrafico12['pickup_datetime']=pd.to_datetime(dfgrafico12.pickup_datetime)\n",
        "print(dfgrafico)"
      ],
      "metadata": {
        "colab": {
          "base_uri": "https://localhost:8080/"
        },
        "id": "lATud110A-QU",
        "outputId": "bfc8b6e9-61e1-4677-e927-f8a92c5e36d7"
      },
      "execution_count": 41,
      "outputs": [
        {
          "output_type": "stream",
          "name": "stderr",
          "text": [
            "/usr/local/lib/python3.7/dist-packages/ipykernel_launcher.py:1: SettingWithCopyWarning: \n",
            "A value is trying to be set on a copy of a slice from a DataFrame.\n",
            "Try using .loc[row_indexer,col_indexer] = value instead\n",
            "\n",
            "See the caveats in the documentation: https://pandas.pydata.org/pandas-docs/stable/user_guide/indexing.html#returning-a-view-versus-a-copy\n",
            "  \"\"\"Entry point for launching an IPython kernel.\n",
            "/usr/local/lib/python3.7/dist-packages/ipykernel_launcher.py:2: SettingWithCopyWarning: \n",
            "A value is trying to be set on a copy of a slice from a DataFrame.\n",
            "Try using .loc[row_indexer,col_indexer] = value instead\n",
            "\n",
            "See the caveats in the documentation: https://pandas.pydata.org/pandas-docs/stable/user_guide/indexing.html#returning-a-view-versus-a-copy\n",
            "  \n",
            "/usr/local/lib/python3.7/dist-packages/ipykernel_launcher.py:3: SettingWithCopyWarning: \n",
            "A value is trying to be set on a copy of a slice from a DataFrame.\n",
            "Try using .loc[row_indexer,col_indexer] = value instead\n",
            "\n",
            "See the caveats in the documentation: https://pandas.pydata.org/pandas-docs/stable/user_guide/indexing.html#returning-a-view-versus-a-copy\n",
            "  This is separate from the ipykernel package so we can avoid doing imports until\n",
            "/usr/local/lib/python3.7/dist-packages/ipykernel_launcher.py:4: SettingWithCopyWarning: \n",
            "A value is trying to be set on a copy of a slice from a DataFrame.\n",
            "Try using .loc[row_indexer,col_indexer] = value instead\n",
            "\n",
            "See the caveats in the documentation: https://pandas.pydata.org/pandas-docs/stable/user_guide/indexing.html#returning-a-view-versus-a-copy\n",
            "  after removing the cwd from sys.path.\n"
          ]
        },
        {
          "output_type": "stream",
          "name": "stdout",
          "text": [
            "                        pickup_datetime payment_type\n",
            "0      2009-04-21 18:51:11.767205+00:00         Cash\n",
            "1      2009-01-13 07:40:07.639754+00:00         Cash\n",
            "2      2009-01-06 19:30:44.142187+00:00         CASH\n",
            "3      2009-09-24 08:28:09.004451+00:00         CASH\n",
            "4      2009-10-29 05:50:39.214629+00:00         CASH\n",
            "...                                 ...          ...\n",
            "999995 2012-07-02 02:16:07.723310+00:00         Cash\n",
            "999996 2012-04-11 16:24:49.255035+00:00         Cash\n",
            "999997 2012-09-15 15:00:58.808130+00:00         Cash\n",
            "999998 2012-06-25 09:17:36.817120+00:00       Credit\n",
            "999999 2012-08-24 07:25:13.503063+00:00         Cash\n",
            "\n",
            "[4000000 rows x 2 columns]\n"
          ]
        },
        {
          "output_type": "stream",
          "name": "stderr",
          "text": [
            "/usr/local/lib/python3.7/dist-packages/ipykernel_launcher.py:5: SettingWithCopyWarning: \n",
            "A value is trying to be set on a copy of a slice from a DataFrame.\n",
            "Try using .loc[row_indexer,col_indexer] = value instead\n",
            "\n",
            "See the caveats in the documentation: https://pandas.pydata.org/pandas-docs/stable/user_guide/indexing.html#returning-a-view-versus-a-copy\n",
            "  \"\"\"\n"
          ]
        }
      ]
    },
    {
      "cell_type": "code",
      "source": [
        "dfgrafico['payment_type']=dfgrafico['payment_type'].str.upper()\n",
        "dfgrafico09['payment_type']=dfgrafico09['payment_type'].str.upper()\n",
        "dfgrafico10['payment_type']=dfgrafico10['payment_type'].str.upper()\n",
        "dfgrafico11['payment_type']=dfgrafico11['payment_type'].str.upper()\n",
        "dfgrafico12['payment_type']=dfgrafico12['payment_type'].str.upper()\n",
        "print(dfgrafico)"
      ],
      "metadata": {
        "colab": {
          "base_uri": "https://localhost:8080/"
        },
        "id": "AU706Kk-908S",
        "outputId": "c5058127-4ecb-46b1-a4a8-d47ed07f8ec5"
      },
      "execution_count": 42,
      "outputs": [
        {
          "output_type": "stream",
          "name": "stderr",
          "text": [
            "/usr/local/lib/python3.7/dist-packages/ipykernel_launcher.py:1: SettingWithCopyWarning: \n",
            "A value is trying to be set on a copy of a slice from a DataFrame.\n",
            "Try using .loc[row_indexer,col_indexer] = value instead\n",
            "\n",
            "See the caveats in the documentation: https://pandas.pydata.org/pandas-docs/stable/user_guide/indexing.html#returning-a-view-versus-a-copy\n",
            "  \"\"\"Entry point for launching an IPython kernel.\n",
            "/usr/local/lib/python3.7/dist-packages/ipykernel_launcher.py:2: SettingWithCopyWarning: \n",
            "A value is trying to be set on a copy of a slice from a DataFrame.\n",
            "Try using .loc[row_indexer,col_indexer] = value instead\n",
            "\n",
            "See the caveats in the documentation: https://pandas.pydata.org/pandas-docs/stable/user_guide/indexing.html#returning-a-view-versus-a-copy\n",
            "  \n",
            "/usr/local/lib/python3.7/dist-packages/ipykernel_launcher.py:3: SettingWithCopyWarning: \n",
            "A value is trying to be set on a copy of a slice from a DataFrame.\n",
            "Try using .loc[row_indexer,col_indexer] = value instead\n",
            "\n",
            "See the caveats in the documentation: https://pandas.pydata.org/pandas-docs/stable/user_guide/indexing.html#returning-a-view-versus-a-copy\n",
            "  This is separate from the ipykernel package so we can avoid doing imports until\n",
            "/usr/local/lib/python3.7/dist-packages/ipykernel_launcher.py:4: SettingWithCopyWarning: \n",
            "A value is trying to be set on a copy of a slice from a DataFrame.\n",
            "Try using .loc[row_indexer,col_indexer] = value instead\n",
            "\n",
            "See the caveats in the documentation: https://pandas.pydata.org/pandas-docs/stable/user_guide/indexing.html#returning-a-view-versus-a-copy\n",
            "  after removing the cwd from sys.path.\n"
          ]
        },
        {
          "output_type": "stream",
          "name": "stdout",
          "text": [
            "                        pickup_datetime payment_type\n",
            "0      2009-04-21 18:51:11.767205+00:00         CASH\n",
            "1      2009-01-13 07:40:07.639754+00:00         CASH\n",
            "2      2009-01-06 19:30:44.142187+00:00         CASH\n",
            "3      2009-09-24 08:28:09.004451+00:00         CASH\n",
            "4      2009-10-29 05:50:39.214629+00:00         CASH\n",
            "...                                 ...          ...\n",
            "999995 2012-07-02 02:16:07.723310+00:00         CASH\n",
            "999996 2012-04-11 16:24:49.255035+00:00         CASH\n",
            "999997 2012-09-15 15:00:58.808130+00:00         CASH\n",
            "999998 2012-06-25 09:17:36.817120+00:00       CREDIT\n",
            "999999 2012-08-24 07:25:13.503063+00:00         CASH\n",
            "\n",
            "[4000000 rows x 2 columns]\n"
          ]
        },
        {
          "output_type": "stream",
          "name": "stderr",
          "text": [
            "/usr/local/lib/python3.7/dist-packages/ipykernel_launcher.py:5: SettingWithCopyWarning: \n",
            "A value is trying to be set on a copy of a slice from a DataFrame.\n",
            "Try using .loc[row_indexer,col_indexer] = value instead\n",
            "\n",
            "See the caveats in the documentation: https://pandas.pydata.org/pandas-docs/stable/user_guide/indexing.html#returning-a-view-versus-a-copy\n",
            "  \"\"\"\n"
          ]
        }
      ]
    },
    {
      "cell_type": "code",
      "source": [
        "dfFiltrado=dfgrafico[dfgrafico['payment_type']=='CASH']\n",
        "dfFiltrado09=dfgrafico09[dfgrafico09['payment_type']=='CASH']\n",
        "dfFiltrado10=dfgrafico10[dfgrafico10['payment_type']=='CASH']\n",
        "dfFiltrado11=dfgrafico11[dfgrafico11['payment_type']=='CASH']\n",
        "dfFiltrado12=dfgrafico12[dfgrafico12['payment_type']=='CASH']\n",
        "print(dfFiltrado)"
      ],
      "metadata": {
        "colab": {
          "base_uri": "https://localhost:8080/"
        },
        "id": "I9kZffP2FSfM",
        "outputId": "561cbaf1-5d5b-45b7-e9e0-49a295ae4cef"
      },
      "execution_count": 43,
      "outputs": [
        {
          "output_type": "stream",
          "name": "stdout",
          "text": [
            "                        pickup_datetime payment_type\n",
            "0      2009-04-21 18:51:11.767205+00:00         CASH\n",
            "1      2009-01-13 07:40:07.639754+00:00         CASH\n",
            "2      2009-01-06 19:30:44.142187+00:00         CASH\n",
            "3      2009-09-24 08:28:09.004451+00:00         CASH\n",
            "4      2009-10-29 05:50:39.214629+00:00         CASH\n",
            "...                                 ...          ...\n",
            "999994 2012-05-20 11:18:32.272757+00:00         CASH\n",
            "999995 2012-07-02 02:16:07.723310+00:00         CASH\n",
            "999996 2012-04-11 16:24:49.255035+00:00         CASH\n",
            "999997 2012-09-15 15:00:58.808130+00:00         CASH\n",
            "999999 2012-08-24 07:25:13.503063+00:00         CASH\n",
            "\n",
            "[3242852 rows x 2 columns]\n"
          ]
        }
      ]
    },
    {
      "cell_type": "markdown",
      "source": [
        "## **Grafico dos quatro anos**\n"
      ],
      "metadata": {
        "id": "uLFXOfw0RGvn"
      }
    },
    {
      "cell_type": "code",
      "source": [
        "\n",
        "plt.hist(dfFiltrado['pickup_datetime'],48,rwidth=0.9)\n",
        "plt.title('Pagamento em dinheiro', fontsize=18)\n",
        "plt.xlabel('Meses por anos(por semestre)')\n",
        "plt.ylabel('Pagamento em dinheiro')\n",
        "plt.figure(figsize=(1,1))\n",
        "plt.show()"
      ],
      "metadata": {
        "colab": {
          "base_uri": "https://localhost:8080/",
          "height": 197
        },
        "id": "jM0I1JfJAoex",
        "outputId": "32717649-5f0f-4e66-c5c6-7b734802400b"
      },
      "execution_count": 69,
      "outputs": [
        {
          "output_type": "display_data",
          "data": {
            "text/plain": [
              "<Figure size 1440x216 with 1 Axes>"
            ],
            "image/png": "[encoded data removed]"
          },
          "metadata": {
            "needs_background": "light"
          }
        },
        {
          "output_type": "display_data",
          "data": {
            "text/plain": [
              "<Figure size 72x72 with 0 Axes>"
            ]
          },
          "metadata": {}
        }
      ]
    },
    {
      "cell_type": "markdown",
      "source": [
        "## **Graficos separados por ano**"
      ],
      "metadata": {
        "id": "Wo_jSr0kS-HR"
      }
    },
    {
      "cell_type": "markdown",
      "source": [
        "### Ano 2009"
      ],
      "metadata": {
        "id": "nJEIYhlcTlb9"
      }
    },
    {
      "cell_type": "code",
      "source": [
        "plt.hist(dfFiltrado09['pickup_datetime'],12,rwidth=0.9)\n",
        "plt.title('Pagamento em dinheiro', fontsize=18)\n",
        "plt.xlabel('Meses por anos(por semestre)')\n",
        "plt.ylabel('Pagamento em dinheiro')\n",
        "plt.figure(figsize=(1,1))\n",
        "plt.show()"
      ],
      "metadata": {
        "colab": {
          "base_uri": "https://localhost:8080/",
          "height": 200
        },
        "id": "PFidEJtpTkGW",
        "outputId": "4441f25a-ba67-4634-998e-f7c7b19ec63e"
      },
      "execution_count": 72,
      "outputs": [
        {
          "output_type": "display_data",
          "data": {
            "text/plain": [
              "<Figure size 1440x216 with 1 Axes>"
            ],
            "image/png": "[encoded data removed]"
          },
          "metadata": {
            "needs_background": "light"
          }
        },
        {
          "output_type": "display_data",
          "data": {
            "text/plain": [
              "<Figure size 72x72 with 0 Axes>"
            ]
          },
          "metadata": {}
        }
      ]
    },
    {
      "cell_type": "markdown",
      "source": [
        "### Ano 2010"
      ],
      "metadata": {
        "id": "RzdEbeHMUkue"
      }
    },
    {
      "cell_type": "code",
      "source": [
        "plt.hist(dfFiltrado10['pickup_datetime'],12,rwidth=0.9)\n",
        "plt.title('Pagamento em dinheiro', fontsize=18)\n",
        "plt.xlabel('Meses por anos(por semestre)')\n",
        "plt.ylabel('Pagamento em dinheiro')\n",
        "plt.figure(figsize=(1,1))\n",
        "plt.show()"
      ],
      "metadata": {
        "colab": {
          "base_uri": "https://localhost:8080/",
          "height": 200
        },
        "id": "dlGekC-6UnaN",
        "outputId": "0ff8fc6d-762f-4f4d-b41b-3ebd567db2e4"
      },
      "execution_count": 71,
      "outputs": [
        {
          "output_type": "display_data",
          "data": {
            "text/plain": [
              "<Figure size 1440x216 with 1 Axes>"
            ],
            "image/png": "[encoded data removed]"
          },
          "metadata": {
            "needs_background": "light"
          }
        },
        {
          "output_type": "display_data",
          "data": {
            "text/plain": [
              "<Figure size 72x72 with 0 Axes>"
            ]
          },
          "metadata": {}
        }
      ]
    },
    {
      "cell_type": "markdown",
      "source": [
        "### Ano 2011"
      ],
      "metadata": {
        "id": "bo0FiNnJU5NO"
      }
    },
    {
      "cell_type": "code",
      "source": [
        "plt.hist(dfFiltrado11['pickup_datetime'],12,rwidth=0.9)\n",
        "plt.title('Pagamento em dinheiro', fontsize=18)\n",
        "plt.xlabel('Meses por anos(por semestre)')\n",
        "plt.ylabel('Pagamento em dinheiro')\n",
        "plt.figure(figsize=(1,1))\n",
        "plt.show()"
      ],
      "metadata": {
        "colab": {
          "base_uri": "https://localhost:8080/",
          "height": 200
        },
        "id": "oiRe8SEtU8cm",
        "outputId": "ab4ad57d-f119-4e90-fefb-6343d8150cab"
      },
      "execution_count": 70,
      "outputs": [
        {
          "output_type": "display_data",
          "data": {
            "text/plain": [
              "<Figure size 1440x216 with 1 Axes>"
            ],
            "image/png": "[encoded data removed]"
          },
          "metadata": {
            "needs_background": "light"
          }
        },
        {
          "output_type": "display_data",
          "data": {
            "text/plain": [
              "<Figure size 72x72 with 0 Axes>"
            ]
          },
          "metadata": {}
        }
      ]
    },
    {
      "cell_type": "markdown",
      "source": [
        "### Ano 2012"
      ],
      "metadata": {
        "id": "zEjs5yO_VxPl"
      }
    },
    {
      "cell_type": "code",
      "source": [
        "plt.hist(dfFiltrado12['pickup_datetime'],12,rwidth=0.9)\n",
        "plt.title('Pagamento em dinheiro', fontsize=18)\n",
        "plt.xlabel('Meses por anos(por semestre)')\n",
        "plt.ylabel('Pagamento em dinheiro')\n",
        "plt.figure(figsize=(1,1))\n",
        "plt.show()"
      ],
      "metadata": {
        "colab": {
          "base_uri": "https://localhost:8080/",
          "height": 200
        },
        "id": "uAXmBw0zV2ON",
        "outputId": "97873b31-356a-4e46-9327-595041be41da"
      },
      "execution_count": 73,
      "outputs": [
        {
          "output_type": "display_data",
          "data": {
            "text/plain": [
              "<Figure size 1440x216 with 1 Axes>"
            ],
            "image/png": "[encoded data removed]"
          },
          "metadata": {
            "needs_background": "light"
          }
        },
        {
          "output_type": "display_data",
          "data": {
            "text/plain": [
              "<Figure size 72x72 with 0 Axes>"
            ]
          },
          "metadata": {}
        }
      ]
    },
    {
      "cell_type": "markdown",
      "source": [
        "# **Quarto desafio**\n"
      ],
      "metadata": {
        "id": "wF-G-8cmOzmT"
      }
    },
    {
      "cell_type": "code",
      "source": [
        "dfgorjetas=data2012[['pickup_datetime','tip_amount']]\n",
        "print(dfgorjetas)\n"
      ],
      "metadata": {
        "colab": {
          "base_uri": "https://localhost:8080/"
        },
        "id": "ckLQubExQHm6",
        "outputId": "e0ec9f0c-2e00-4495-cc83-2d8855c53841"
      },
      "execution_count": 52,
      "outputs": [
        {
          "output_type": "stream",
          "name": "stdout",
          "text": [
            "                         pickup_datetime  tip_amount\n",
            "0       2012-06-09T16:21:13.580003+00:00         0.0\n",
            "1       2012-08-14T21:44:14.940659+00:00         0.0\n",
            "2       2012-07-06T17:12:07.862531+00:00         0.0\n",
            "3       2012-07-22T04:12:28.704958+00:00         0.0\n",
            "4        2012-07-11T11:40:13.77461+00:00         0.0\n",
            "...                                  ...         ...\n",
            "999995   2012-07-02T02:16:07.72331+00:00         0.0\n",
            "999996  2012-04-11T16:24:49.255035+00:00         0.0\n",
            "999997   2012-09-15T15:00:58.80813+00:00         0.0\n",
            "999998   2012-06-25T09:17:36.81712+00:00         2.0\n",
            "999999  2012-08-24T07:25:13.503063+00:00         0.0\n",
            "\n",
            "[1000000 rows x 2 columns]\n"
          ]
        }
      ]
    },
    {
      "cell_type": "code",
      "source": [
        "dfgorjetas['pickup_datetime']=pd.to_datetime(dfgorjetas.pickup_datetime)\n",
        "print(dfgorjetas)"
      ],
      "metadata": {
        "id": "oEDGB3V_Q8Jj",
        "colab": {
          "base_uri": "https://localhost:8080/"
        },
        "outputId": "a3ef44e8-4c83-402b-d4bf-db55487ee1a5"
      },
      "execution_count": 53,
      "outputs": [
        {
          "output_type": "stream",
          "name": "stdout",
          "text": [
            "                        pickup_datetime  tip_amount\n",
            "0      2012-06-09 16:21:13.580003+00:00         0.0\n",
            "1      2012-08-14 21:44:14.940659+00:00         0.0\n",
            "2      2012-07-06 17:12:07.862531+00:00         0.0\n",
            "3      2012-07-22 04:12:28.704958+00:00         0.0\n",
            "4      2012-07-11 11:40:13.774610+00:00         0.0\n",
            "...                                 ...         ...\n",
            "999995 2012-07-02 02:16:07.723310+00:00         0.0\n",
            "999996 2012-04-11 16:24:49.255035+00:00         0.0\n",
            "999997 2012-09-15 15:00:58.808130+00:00         0.0\n",
            "999998 2012-06-25 09:17:36.817120+00:00         2.0\n",
            "999999 2012-08-24 07:25:13.503063+00:00         0.0\n",
            "\n",
            "[1000000 rows x 2 columns]\n"
          ]
        },
        {
          "output_type": "stream",
          "name": "stderr",
          "text": [
            "/usr/local/lib/python3.7/dist-packages/ipykernel_launcher.py:1: SettingWithCopyWarning: \n",
            "A value is trying to be set on a copy of a slice from a DataFrame.\n",
            "Try using .loc[row_indexer,col_indexer] = value instead\n",
            "\n",
            "See the caveats in the documentation: https://pandas.pydata.org/pandas-docs/stable/user_guide/indexing.html#returning-a-view-versus-a-copy\n",
            "  \"\"\"Entry point for launching an IPython kernel.\n"
          ]
        }
      ]
    },
    {
      "cell_type": "code",
      "source": [
        "\n",
        "selecao = dfgorjetas[dfgorjetas['pickup_datetime'].dt.month >= 10]\n",
        "\n",
        "df20123 = selecao\n",
        "print(df20123)"
      ],
      "metadata": {
        "colab": {
          "base_uri": "https://localhost:8080/"
        },
        "id": "sRtzQFwrWpDI",
        "outputId": "dec9a96c-01e8-49ee-c36b-be9020df8b7b"
      },
      "execution_count": 68,
      "outputs": [
        {
          "output_type": "stream",
          "name": "stdout",
          "text": [
            "                        pickup_datetime  tip_amount\n",
            "9      2012-10-17 11:28:59.571708+00:00         0.0\n",
            "11     2012-10-17 21:46:51.187166+00:00         2.0\n",
            "27     2012-10-19 11:28:47.324903+00:00         2.0\n",
            "29     2012-10-22 17:19:23.547796+00:00         0.0\n",
            "30     2012-10-03 22:59:36.384652+00:00         0.0\n",
            "...                                 ...         ...\n",
            "999957 2012-10-14 11:52:37.252371+00:00         0.0\n",
            "999967 2012-10-21 07:01:29.093810+00:00         0.0\n",
            "999971 2012-10-04 19:47:40.323679+00:00         0.0\n",
            "999990 2012-10-11 18:53:47.718562+00:00         0.0\n",
            "999993 2012-10-24 02:13:06.454046+00:00         0.0\n",
            "\n",
            "[89749 rows x 2 columns]\n"
          ]
        }
      ]
    },
    {
      "cell_type": "code",
      "source": [
        "#Não possui dados apartir do final de outubro\n",
        "plt.hist(df20123['pickup_datetime'],90,rwidth=0.9)\n",
        "plt.title('numero de gorjetas', fontsize=18)\n",
        "plt.xlabel('dias por meses')\n",
        "plt.ylabel('Quantidade de gorjetas')\n",
        "plt.figure(figsize=(1,1))\n",
        "plt.show()"
      ],
      "metadata": {
        "colab": {
          "base_uri": "https://localhost:8080/",
          "height": 198
        },
        "id": "hk7eeVlSPO9i",
        "outputId": "abb00ee0-b5c5-4945-f963-a0468723c567"
      },
      "execution_count": 74,
      "outputs": [
        {
          "output_type": "display_data",
          "data": {
            "text/plain": [
              "<Figure size 1440x216 with 1 Axes>"
            ],
            "image/png": "[encoded data removed]"
          },
          "metadata": {
            "needs_background": "light"
          }
        },
        {
          "output_type": "display_data",
          "data": {
            "text/plain": [
              "<Figure size 72x72 with 0 Axes>"
            ]
          },
          "metadata": {}
        }
      ]
    }
  ]
}